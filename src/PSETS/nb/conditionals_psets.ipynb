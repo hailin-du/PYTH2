{
 "cells": [
  {
   "cell_type": "markdown",
   "metadata": {},
   "source": [
    "<a href=\"https://colab.research.google.com/github/mottaquikarim/PYTH2/blob/master/src/PSETS/nb/conditionals_psets.ipynb\" target=\"_parent\"><img src=\"https://colab.research.google.com/assets/colab-badge.svg\" alt=\"Open In Colab\"/></a>"
   ]
  },
  {
   "cell_type": "markdown",
   "metadata": {},
   "source": [
    "#  CONDITIONALS\n",
    "\n",
    "## WEATHER\n",
    "\n",
    "### P1.PY\n",
    "\n",
    "\n"
   ]
  },
  {
   "cell_type": "code",
   "execution_count": null,
   "metadata": {},
   "outputs": [],
   "source": [
    "\"\"\"\n",
    "Weather I - Do you need boots?\n",
    "\"\"\"\n",
    "\n",
    "# Use the values of the vars defined below to ouput the correct contextual answer to the questions below. (Note: The variables themselves ARE the questions.)\n",
    "\n",
    "# Example:\n",
    "## am_i_hungry = False\n",
    "## am_i_tired = True\n",
    "## do_i_need_to_stay_awake = False\n",
    "\n",
    "## should_i_drink_coffee_now = am_i_tired and do_i_need_to_stay_awake\n",
    "\n",
    "## ^^ This ^^ evaluates to False. If you're tired and don't need to stay awake, you don't need to drink coffee!\n",
    "\n",
    "\n",
    "is_it_raining = True\n",
    "is_it_snowing = False\n",
    "\n",
    "\n",
    "do_i_need_snow_boots = None\n",
    "can_i_skip_snow_boots = None\n",
    "do_i_need_rain_boots = None\n",
    "can_i_skip_rain_boots = None"
   ]
  },
  {
   "cell_type": "markdown",
   "metadata": {},
   "source": [
    "\n",
    "\n",
    "### P2.PY\n",
    "\n",
    "\n"
   ]
  },
  {
   "cell_type": "code",
   "execution_count": null,
   "metadata": {},
   "outputs": [],
   "source": [
    "\"\"\"\n",
    "Weather II - Precipitation\n",
    "\"\"\"\n",
    "\n",
    "# Repeat the same process as p1, using this new set of variables.\n",
    "\n",
    "sunny = True\n",
    "raining = True\n",
    "snowing = False\n",
    "\n",
    "is_it_sunny = None\n",
    "is_there_precipitation = None\n",
    "is_it_sleeting = None\n",
    "is_there_rainbow = None"
   ]
  },
  {
   "cell_type": "markdown",
   "metadata": {},
   "source": [
    "\n",
    "\n",
    "### P3.PY\n",
    "\n",
    "\n"
   ]
  },
  {
   "cell_type": "code",
   "execution_count": null,
   "metadata": {},
   "outputs": [],
   "source": [
    "\"\"\"\n",
    "Weather III - Describe Conditions\n",
    "\"\"\"\n",
    "\n",
    "# Repeat the same process as p1, using this new set of variables.\n",
    "\n",
    "\n",
    "is_it_warm = True\n",
    "is_it_humid = True\n",
    "is_it_cold = False\n",
    "is_it_icy = False\n",
    "is_it_foggy = False\n",
    "is_it_windy = False\n",
    "is_it_overcast = True\n",
    "\n",
    "\n",
    "is_it_summer_weather = None\n",
    "is_rain_coming = None\n",
    "is_it_muggy = None\n",
    "do_i_need_coat = None\n",
    "\n"
   ]
  },
  {
   "cell_type": "markdown",
   "metadata": {},
   "source": [
    "\n",
    "\n",
    "## LOGIC\n",
    "\n",
    "### P1.PY\n",
    "\n",
    "\n"
   ]
  },
  {
   "cell_type": "code",
   "execution_count": null,
   "metadata": {},
   "outputs": [],
   "source": [
    "\"\"\"\n",
    "Calculate Grade\n",
    "\"\"\"\n",
    "\n",
    "grade = 15  # expect this to be a number\n",
    "\n",
    "# write a program that will print the \"letter\"\n",
    "# equivalent of the grade, for example:\n",
    "# when grade = 90 # -> expect A\n",
    "# when grade = 80 # -> expect B\n",
    "# when grade = 70 # -> expect C\n",
    "# when grade = 60 # -> expect D\n",
    "# when grade = 54 # -> expect F\n",
    "# when grade = -10 # -> expect Error\n",
    "# when grade = 10000 # -> expect Error\n",
    "# when grade = \"lol skool sucks\" # -> expect Error\n"
   ]
  },
  {
   "cell_type": "markdown",
   "metadata": {},
   "source": [
    "\n",
    "\n",
    "### P2.PY\n",
    "\n",
    "\n"
   ]
  },
  {
   "cell_type": "code",
   "execution_count": null,
   "metadata": {},
   "outputs": [],
   "source": [
    "\"\"\"\n",
    "Sign of Product\n",
    "\"\"\"\n",
    "\n",
    "# Given three numbers, a, b, c, without multiplying, determine the sign of their product.\n",
    "\n",
    "# EXAMPLE: a = -5, b = 6, c = -4, print 1\n",
    "\n",
    "# EXAMPLE: a = 5, b = 6, c = -4, print -1\n"
   ]
  },
  {
   "cell_type": "markdown",
   "metadata": {},
   "source": [
    "\n",
    "\n",
    "### P3.PY\n",
    "\n",
    "\n"
   ]
  },
  {
   "cell_type": "code",
   "execution_count": null,
   "metadata": {},
   "outputs": [],
   "source": [
    "\"\"\"\n",
    "Any Uppercase\n",
    "\"\"\"\n",
    "\n",
    "# Given a string str, determine if there are any uppercase values in it. Use only conditional statements and string methods (you may have to look some up!)\n",
    "\n",
    "# EXAMPLE: str = \"teSt\", print True\n"
   ]
  },
  {
   "cell_type": "markdown",
   "metadata": {},
   "source": [
    "\n",
    "\n",
    "### P4.PY\n",
    "\n",
    "\n"
   ]
  },
  {
   "cell_type": "code",
   "execution_count": null,
   "metadata": {},
   "outputs": [],
   "source": [
    "\"\"\"\n",
    "Empty Strings\n",
    "\"\"\"\n",
    "\n",
    "# Given any empty string, of the form:\n",
    "\n",
    "# ''\n",
    "# ' '\n",
    "# '  '\n",
    "# any other num of spaces...\n",
    "\n",
    "# determine if the str is empty or not (print True or False). Hint: You'll need to look up how to remove trailing spaces from a string.\n"
   ]
  },
  {
   "cell_type": "markdown",
   "metadata": {},
   "source": [
    "\n",
    "\n",
    "### P5.PY\n",
    "\n",
    "\n"
   ]
  },
  {
   "cell_type": "code",
   "execution_count": null,
   "metadata": {},
   "outputs": [],
   "source": [
    "\"\"\"\n",
    "truthTableEvaluator\n",
    "\"\"\"\n",
    "\n",
    "# Given the following inputs:\n",
    "\n",
    "\n",
    "# P = # True or False\n",
    "# Q = # True or False\n",
    "# op = # '^' (logical AND, conjunction)\n",
    "#      # OR, 'v' (logical OR, disjunction)\n",
    "#      # OR, '->' (logical conditional, implication)\n",
    "#      # OR, '<->' (biconditional)\n",
    "# determine the correct outcome.\n",
    "\n",
    "# https://medium.com/i-math/intro-to-truth-tables-boolean-algebra-73b331dd9b94\n"
   ]
  },
  {
   "cell_type": "markdown",
   "metadata": {},
   "source": [
    "\n",
    "\n",
    "## RANDOM_NUMS\n",
    "\n",
    "### P1.PY\n",
    "\n",
    "\n"
   ]
  },
  {
   "cell_type": "code",
   "execution_count": null,
   "metadata": {},
   "outputs": [],
   "source": [
    "\"\"\"\n",
    "Generate Traffic Light\n",
    "\"\"\"\n",
    "\n",
    "# import python randomint package\n",
    "\n",
    "\n",
    "# generates a random number from 1 to 3\n",
    "\n",
    "\n",
    "# if 1, print 'red'\n",
    "# if 2, print 'green',\n",
    "# if 3, print 'yellow'\n"
   ]
  },
  {
   "cell_type": "markdown",
   "metadata": {},
   "source": [
    "\n",
    "\n",
    "### P2.PY\n",
    "\n",
    "\n"
   ]
  },
  {
   "cell_type": "code",
   "execution_count": null,
   "metadata": {},
   "outputs": [],
   "source": [
    "\"\"\"\n",
    "Generate Phone Number w/Area Code\n",
    "\"\"\"\n",
    "\n",
    "# Generate a random phone number using these SPECS:\n",
    "### Should be a string in this format: 1-718-786-2825\n",
    "### Must randomly choose one of these area codes: 646, 718, 212"
   ]
  },
  {
   "cell_type": "markdown",
   "metadata": {},
   "source": [
    "\n",
    "\n",
    "## RPS\n",
    "\n",
    "### P1.PY\n",
    "\n",
    "\n"
   ]
  },
  {
   "cell_type": "code",
   "execution_count": null,
   "metadata": {},
   "outputs": [],
   "source": [
    "\"\"\"\n",
    "Play RPS\n",
    "\"\"\"\n",
    "\n",
    "p1 = 'r'  # or 'p' or 's'\n",
    "p2 = 'r'  # or 'p' or 's'\n",
    "\n",
    "# Given a p1 and p2\n",
    "# print 1 if p1 has won\n",
    "# print 2 if p2 has won\n",
    "# print 0 if tie\n",
    "# print -1 if invalid input\n",
    "# expects both p1 and p2 inputs to be either\n",
    "# \"r\", \"p\", or \"s\"\n"
   ]
  },
  {
   "cell_type": "markdown",
   "metadata": {},
   "source": [
    "\n",
    "\n",
    "### P2.PY\n",
    "\n",
    "\n"
   ]
  },
  {
   "cell_type": "code",
   "execution_count": null,
   "metadata": {},
   "outputs": [],
   "source": [
    "\"\"\"\n",
    "Play RPS w/Computer\n",
    "\"\"\"\n",
    "\n",
    "import random\n",
    "\n",
    "p1 = None  # randomly choose 'r' or 'p' or 's'\n",
    "p2 = None  # randomly choose 'r' or 'p' or 's'\n",
    "\n",
    "# Given a p1 and p2\n",
    "# print 1 if p1 has won\n",
    "# print 2 if p2 has won\n",
    "# print 0 if tie\n",
    "# print -1 if invalid input\n",
    "# expects both p1 and p2 inputs to be either\n",
    "# \"r\", \"p\", or \"s\"\n"
   ]
  },
  {
   "cell_type": "markdown",
   "metadata": {},
   "source": [
    "\n",
    "\n",
    "### P3.PY\n",
    "\n",
    "\n"
   ]
  },
  {
   "cell_type": "code",
   "execution_count": null,
   "metadata": {},
   "outputs": [],
   "source": [
    "\"\"\"\n",
    "Play RPS w/Input\n",
    "\"\"\"\n",
    "\n",
    "p1 = None  # from user input\n",
    "p2 = None  # from user input\n",
    "\n",
    "# Given a p1 and p2\n",
    "# print 1 if p1 has won\n",
    "# print 2 if p2 has won\n",
    "# print 0 if tie\n",
    "# print -1 if invalid input\n",
    "# expects both p1 and p2 inputs to be either\n",
    "# \"r\", \"p\", or \"s\"\n"
   ]
  },
  {
   "cell_type": "markdown",
   "metadata": {},
   "source": [
    "\n",
    "\n",
    "### P4.PY\n",
    "\n",
    "\n"
   ]
  },
  {
   "cell_type": "code",
   "execution_count": null,
   "metadata": {},
   "outputs": [],
   "source": [
    "\"\"\"\n",
    "Play RPS against Computer\n",
    "\"\"\"\n",
    "\n",
    "p1 = None  # from user input - we still want validation from above!\n",
    "p2 = None  # randomly generated against computer\n",
    "\n",
    "# Given a p1 and p2\n",
    "# print 1 if p1 has won\n",
    "# print 2 if p2 has won\n",
    "# print 0 if tie\n",
    "# print -1 if invalid input\n",
    "# expects both p1 and p2 inputs to be either\n",
    "# \"r\", \"p\", or \"s\"\n"
   ]
  },
  {
   "cell_type": "markdown",
   "metadata": {},
   "source": [
    "\n",
    "\n",
    "### P5.PY\n",
    "\n",
    "\n"
   ]
  },
  {
   "cell_type": "code",
   "execution_count": null,
   "metadata": {},
   "outputs": [],
   "source": [
    "\"\"\"\n",
    "Play RPS w/Bad Input\n",
    "\"\"\"\n",
    "\n",
    "p1 = None  # can be invalid!\n",
    "p2 = None  # can be invalid!\n",
    "\n",
    "\"\"\"\n",
    "This is the same as the original RPS problem, \n",
    "except that cannot expect the input to be valid. \n",
    "While we *want* `r` or `p` or `s`, there is a possibility \n",
    "that input can be anything like...\n",
    "\n",
    "* `ROCK` (all caps)\n",
    "* `R` (`r` but capitalized)\n",
    "* `PAPrrRR` (incorrectly spelled, upper/lowercased)\n",
    "\n",
    "Implement conditional statements that will sanitize the \n",
    "user input or let user know that input is invalid.\n",
    "\"\"\"\n"
   ]
  },
  {
   "cell_type": "markdown",
   "metadata": {},
   "source": [
    "\n"
   ]
  }
 ],
 "metadata": {},
 "nbformat": 4,
 "nbformat_minor": 2
}
