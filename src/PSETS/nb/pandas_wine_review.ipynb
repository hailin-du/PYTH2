{
 "cells": [
  {
   "cell_type": "markdown",
   "metadata": {},
   "source": [
    "<a href=\"https://colab.research.google.com/github/mottaquikarim/PYTH2/blob/master/src/PSETS/nb/pandas_wine_review.ipynb\" target=\"_parent\"><img src=\"https://colab.research.google.com/assets/colab-badge.svg\" alt=\"Open In Colab\"/></a>"
   ]
  },
  {
   "cell_type": "markdown",
   "metadata": {},
   "source": [
    "#  PANDAS1 WINE REVIEWS\n",
    "\n",
    "## [DATA](https://raw.githubusercontent.com/mottaquikarim/pydev-psets/master/pset_pandas1_wine_reviews/winemag-data-130k.csv)\n",
    "\n",
    "## CHECK_IMPORTED_DATA\n",
    "\n",
    "### P1.PY\n",
    "\n",
    "\n"
   ]
  },
  {
   "cell_type": "code",
   "execution_count": null,
   "metadata": {},
   "outputs": [],
   "source": [
    "\"\"\"\n",
    "Checking Imported Data I - Data Dictionary\n",
    "\"\"\"\n",
    "\n",
    "import numpy as np\n",
    "import pandas as pd\n",
    "wine_reviews = pd.read_csv('../winemag-data-130k.csv')\n",
    "\n",
    "\n",
    "# Access a summary of the core metadata of the DataFrame (i.e. the number and name of columns, the rows, etc.)"
   ]
  },
  {
   "cell_type": "markdown",
   "metadata": {},
   "source": [
    "\n",
    "\n",
    "### P2.PY\n",
    "\n",
    "\n"
   ]
  },
  {
   "cell_type": "code",
   "execution_count": null,
   "metadata": {},
   "outputs": [],
   "source": [
    "\"\"\"\n",
    "Checking Imported Data II - How Big is the Data?\n",
    "\"\"\"\n",
    "\n",
    "import numpy as np\n",
    "import pandas as pd\n",
    "wine_reviews = pd.read_csv('../winemag-data-130k.csv')\n",
    "\n",
    "\n",
    "# Print the number of rows and columns in wine_reviews.\n",
    "\n",
    "\n",
    "\n",
    "# Print the number of elements in wine_reviews.\n",
    "\n"
   ]
  },
  {
   "cell_type": "markdown",
   "metadata": {},
   "source": [
    "\n",
    "\n",
    "### P3.PY\n",
    "\n",
    "\n"
   ]
  },
  {
   "cell_type": "code",
   "execution_count": null,
   "metadata": {},
   "outputs": [],
   "source": [
    "\"\"\"\n",
    "Checking Imported Data III - DataFrame Labels\n",
    "\"\"\"\n",
    "\n",
    "import numpy as np\n",
    "import pandas as pd\n",
    "wine_reviews = pd.read_csv('../winemag-data-130k.csv')\n",
    "\n",
    "\n",
    "# Access the labels on the rows of data.\n",
    "\n",
    "\n",
    "\n",
    "\n",
    "# Access the labels on the columns of data.\n",
    "\n",
    "\n",
    "\n",
    "# Return the labels for the rows and columns in wine_reviews in one command.\n",
    "\n",
    "\n"
   ]
  },
  {
   "cell_type": "markdown",
   "metadata": {},
   "source": [
    "\n",
    "\n",
    "### P4.PY\n",
    "\n",
    "\n"
   ]
  },
  {
   "cell_type": "code",
   "execution_count": null,
   "metadata": {},
   "outputs": [],
   "source": [
    "\"\"\"\n",
    "Checking Imported Data IV - Preview Data\n",
    "\"\"\"\n",
    "\n",
    "import numpy as np\n",
    "import pandas as pd\n",
    "wine_reviews = pd.read_csv('../winemag-data-130k.csv')\n",
    "\n",
    "\n",
    "# Print out the first and last 10 rows of data."
   ]
  },
  {
   "cell_type": "markdown",
   "metadata": {},
   "source": [
    "\n",
    "\n",
    "## SELECTING_DATA\n",
    "\n",
    "### P1.PY\n",
    "\n",
    "\n"
   ]
  },
  {
   "cell_type": "code",
   "execution_count": null,
   "metadata": {},
   "outputs": [],
   "source": [
    "\"\"\"\n",
    "Selecting Data I - Access a Row\n",
    "\"\"\"\n",
    "\n",
    "import numpy as np\n",
    "import pandas as pd\n",
    "wine_reviews = pd.read_csv('../winemag-data-130k.csv')\n",
    "\n",
    "\n",
    "# Return the 12th row in the wine_reviews dataframe.\n",
    "\n",
    "\n"
   ]
  },
  {
   "cell_type": "markdown",
   "metadata": {},
   "source": [
    "\n",
    "\n",
    "### P2.PY\n",
    "\n",
    "\n"
   ]
  },
  {
   "cell_type": "code",
   "execution_count": null,
   "metadata": {},
   "outputs": [],
   "source": [
    "\"\"\"\n",
    "Selecting Data II - Access a Column\n",
    "\"\"\"\n",
    "\n",
    "import numpy as np\n",
    "import pandas as pd\n",
    "wine_reviews = pd.read_csv('../winemag-data-130k.csv')\n",
    "\n",
    "\n",
    "# Return the winery column in a variable called \"wineries\".\n",
    "\n",
    "\n",
    "\n",
    "# Run a command to return the type of wineries.\n",
    "\n"
   ]
  },
  {
   "cell_type": "markdown",
   "metadata": {},
   "source": [
    "\n",
    "\n",
    "### P3.PY\n",
    "\n",
    "\n"
   ]
  },
  {
   "cell_type": "code",
   "execution_count": null,
   "metadata": {},
   "outputs": [],
   "source": [
    "\"\"\"\n",
    "Selecting Data III - Access Single Values\n",
    "\"\"\"\n",
    "\n",
    "import numpy as np\n",
    "import pandas as pd\n",
    "wine_reviews = pd.read_csv('../winemag-data-130k.csv')\n",
    "\n",
    "# Print the value in the 5th column of the 7th row.\n",
    "\n",
    "\n",
    "# Create a Series called \"countries\" from the 'country' column and print item at index 18.\n",
    "\n",
    "\n",
    "# Print the 10th item in countries.\n"
   ]
  },
  {
   "cell_type": "markdown",
   "metadata": {},
   "source": [
    "\n",
    "\n",
    "### P4.PY\n",
    "\n",
    "\n"
   ]
  },
  {
   "cell_type": "code",
   "execution_count": null,
   "metadata": {},
   "outputs": [],
   "source": [
    "\"\"\"\n",
    "Selecting Data IV - Access Slices\n",
    "\"\"\"\n",
    "\n",
    "import numpy as np\n",
    "import pandas as pd\n",
    "wine_reviews = pd.read_csv('../winemag-data-130k.csv')\n",
    "\n",
    "\n",
    "# Print first 3 values in the 'province' column.\n",
    "\n",
    "\n",
    "\n",
    "# Create a Series called \"provinces\" and print the first 3 values.\n",
    "\n"
   ]
  },
  {
   "cell_type": "markdown",
   "metadata": {},
   "source": [
    "\n",
    "\n",
    "### P5.PY\n",
    "\n",
    "\n"
   ]
  },
  {
   "cell_type": "code",
   "execution_count": null,
   "metadata": {},
   "outputs": [],
   "source": [
    "\"\"\"\n",
    "Selecting Data V - Subsets\n",
    "\"\"\"\n",
    "\n",
    "import numpy as np\n",
    "import pandas as pd\n",
    "wine_reviews = pd.read_csv('../winemag-data-130k.csv')\n",
    "\n",
    "# Create a new dataframe called \"wine_ratings\" that is a subset of wine_reviews. It should have these columns in this order:\n",
    "### title\n",
    "### country\n",
    "### points\n",
    "### price"
   ]
  },
  {
   "cell_type": "markdown",
   "metadata": {},
   "source": [
    "\n",
    "\n",
    "### P6.PY\n",
    "\n",
    "\n"
   ]
  },
  {
   "cell_type": "code",
   "execution_count": null,
   "metadata": {},
   "outputs": [],
   "source": [
    "\"\"\"\n",
    "Selecting Data VI - Min & Max (CHALLENGE!)\n",
    "\"\"\"\n",
    "\n",
    "import numpy as np\n",
    "import pandas as pd\n",
    "wine_reviews = pd.read_csv('../winemag-data-130k.csv')\n",
    "\n",
    "\n",
    "# Find the 5 rows with the highest-priced wine and the 5 rows with the lowest-priced wine. Assign them to variables called 'a' and 'b' respectively. Print 'a' and 'b'.\n",
    "\n",
    "\n",
    "\n",
    "# Create a function to print out the variety and price of some number of the most and least expensive wines. Hints:\n",
    "### It should contain loops\n",
    "### The number function should take any number for finding the highest and lowest priced wines (e.g. top and bottom 5, top and bottom 10, etc.)\n",
    "### If you're iterating through a 2 column dataframe item by item, remember the counting goes like this:\n",
    "\"\"\"\n",
    "[0,0], [0,1]\n",
    "[1,0], [1,1]\n",
    "[2,0], [2,1]\n",
    "[3,0], [3,1]\n",
    "[4,0], [4,1]\n",
    "\"\"\"\n",
    "\n"
   ]
  },
  {
   "cell_type": "markdown",
   "metadata": {},
   "source": [
    "\n",
    "\n",
    "## SORTING\n",
    "\n",
    "### P1.PY\n",
    "\n",
    "\n"
   ]
  },
  {
   "cell_type": "code",
   "execution_count": null,
   "metadata": {},
   "outputs": [],
   "source": [
    "\"\"\"\n",
    "Data Organization I - Sorting a Series\n",
    "\"\"\"\n",
    "\n",
    "import numpy as np\n",
    "import pandas as pd\n",
    "wine_reviews = pd.read_csv('../winemag-data-130k.csv')\n",
    "\n",
    "# Using this Series, sort the elements alphabetically.\n",
    "\n",
    "countries = wine_reviews['country']\n",
    "\n",
    "\n",
    "\n",
    "# Using this Series, sort the elements from highest to lowest.\n",
    "\n",
    "prices = wine_reviews['price']"
   ]
  },
  {
   "cell_type": "markdown",
   "metadata": {},
   "source": [
    "\n",
    "\n",
    "### P2.PY\n",
    "\n",
    "\n"
   ]
  },
  {
   "cell_type": "code",
   "execution_count": null,
   "metadata": {},
   "outputs": [],
   "source": [
    "\"\"\"\n",
    "Data Organization II - Sorting a DataFrame\n",
    "\"\"\"\n",
    "\n",
    "import numpy as np\n",
    "import pandas as pd\n",
    "wine_reviews = pd.read_csv('../winemag-data-130k.csv')\n",
    "\n",
    "# Using this DataFrame, sort the rows reverse alphabetically based on the 'country' column.\n",
    "\n",
    "wine_ratings = wine_reviews[['title', 'country', 'rating', 'price']]\n",
    "\n",
    "\n",
    "\n",
    "\n",
    "# Now sort the DataFrame's rows based on price from highest to lowest.\n",
    "\n"
   ]
  },
  {
   "cell_type": "markdown",
   "metadata": {},
   "source": [
    "\n",
    "\n",
    "### P3.PY\n",
    "\n",
    "\n"
   ]
  },
  {
   "cell_type": "code",
   "execution_count": null,
   "metadata": {},
   "outputs": [],
   "source": [
    "\"\"\"\n",
    "Data Organization III - Sorting a DataFrame by Multiple Columns\n",
    "\"\"\"\n",
    "\n",
    "import numpy as np\n",
    "import pandas as pd\n",
    "wine_reviews = pd.read_csv('../winemag-data-130k.csv')\n",
    "\n",
    "# Using this DataFrame, sort the rows first, alphabetically by 'country', and second, by 'rating' from highest to lowest.\n",
    "\n",
    "ratings_by_location = wine_reviews[['country', 'province', 'rating']]\n",
    "\n",
    "\n",
    "\n",
    "# Take a look at the result by printing out the rows from indeces 0 to 10 as well as the rows from indeces 52065 to 52075.\n"
   ]
  },
  {
   "cell_type": "markdown",
   "metadata": {},
   "source": [
    "\n",
    "\n",
    "## EDA\n",
    "\n",
    "### P1.PY\n",
    "\n",
    "\n"
   ]
  },
  {
   "cell_type": "code",
   "execution_count": null,
   "metadata": {},
   "outputs": [],
   "source": [
    "\"\"\"\n",
    "Exploratory Data Analysis I - Core Stats Summary\n",
    "\"\"\"\n",
    "\n",
    "import numpy as np\n",
    "import pandas as pd\n",
    "wine_reviews = pd.read_csv('raw_data/winemag-data-130k.csv')\n",
    "wine_reviews.rename(columns={'points': 'rating'}, inplace=True)\n",
    "\n",
    "# With one function call, return the core statistics for the wine_ratings DataFrame below.\n",
    "\n",
    "wine_ratings = wine_reviews[['title', 'country', 'rating', 'price']]\n",
    "\n",
    "\n",
    "# Drop the null values in the latter three columns and drop duplicates based on the 'title' column. Then return the core statistics again.\n",
    "\n"
   ]
  },
  {
   "cell_type": "markdown",
   "metadata": {},
   "source": [
    "\n",
    "\n",
    "### P2.PY\n",
    "\n",
    "\n"
   ]
  },
  {
   "cell_type": "code",
   "execution_count": null,
   "metadata": {},
   "outputs": [],
   "source": [
    "\"\"\"\n",
    "Exploratory Data Analysis II - Unique Values\n",
    "\"\"\"\n",
    "\n",
    "import numpy as np\n",
    "import pandas as pd\n",
    "wine_reviews = pd.read_csv('raw_data/winemag-data-130k.csv')\n",
    "\n",
    "# Print a list of all the unique countries in the wine_reviews DataFrame in alphabetical order. Also print the number of unique countries that exist in the dataset. Hint: Don't just find the length of your first result.\n",
    "\n"
   ]
  },
  {
   "cell_type": "markdown",
   "metadata": {},
   "source": [
    "\n",
    "\n",
    "## DATA_CLEANING\n",
    "\n",
    "### P1.PY\n",
    "\n",
    "\n"
   ]
  },
  {
   "cell_type": "code",
   "execution_count": null,
   "metadata": {},
   "outputs": [],
   "source": [
    "\"\"\"\n",
    "Cleaning Data I - Drop Columns\n",
    "\"\"\"\n",
    "\n",
    "import numpy as np\n",
    "import pandas as pd\n",
    "wine_reviews = pd.read_csv('../winemag-data-130k.csv')\n",
    "\n",
    "\n",
    "# Drop the 'region_2' and 'taster_twitter_handle' columns.\n"
   ]
  },
  {
   "cell_type": "markdown",
   "metadata": {},
   "source": [
    "\n",
    "\n",
    "### P10.PY\n",
    "\n",
    "\n"
   ]
  },
  {
   "cell_type": "code",
   "execution_count": null,
   "metadata": {},
   "outputs": [],
   "source": [
    "\"\"\"\n",
    "Cleaning Data X - Fill Null Values\n",
    "\"\"\"\n",
    "\n",
    "import numpy as np\n",
    "import pandas as pd\n",
    "wine_reviews = pd.read_csv('../winemag-data-130k.csv')\n",
    "wine_reviews.rename(columns={'points': 'rating'}, inplace=True)\n",
    "\n",
    "# Use the below df for these problems:\n",
    "\n",
    "wine_ratings = wine_reviews[['title', 'country', 'rating', 'price']]\n",
    "\n",
    "\n",
    "\n",
    "# Replace all the null 'price' values with the mean of the existing \n",
    "\n",
    "\n",
    "# Return a count of the null values in wine_ratings.\n",
    "\n",
    "\n",
    "# Print out the number of rows in wine_ratings.\n",
    "\n",
    "\n",
    "# Replace all the missing values in the 'country' column with 'Unknown'. Hint: Remember this should be the only column left with null values.\n",
    "\n",
    "\n",
    "# Return a count of the null values in wine_ratings.\n",
    "\n",
    "\n",
    "# Print out the number of rows in wine_ratings.\n",
    "\n",
    "\n"
   ]
  },
  {
   "cell_type": "markdown",
   "metadata": {},
   "source": [
    "\n",
    "\n",
    "### P11.PY\n",
    "\n",
    "\n"
   ]
  },
  {
   "cell_type": "code",
   "execution_count": null,
   "metadata": {},
   "outputs": [],
   "source": [
    "\"\"\"\n",
    "Cleaning Data XI - Removing Duplicates\n",
    "\"\"\"\n",
    "\n",
    "import numpy as np\n",
    "import pandas as pd\n",
    "wine_reviews = pd.read_csv('../winemag-data-130k.csv')\n",
    "wine_reviews.rename(columns={'points': 'rating'}, inplace=True)\n",
    "\n",
    "# Using this DataFrame, drop the null values in the 'price' and 'country' columns. Then find the number of duplicates values in the 'title' column.\n",
    "\n",
    "wine_ratings = wine_reviews[['title', 'country', 'rating', 'price']]\n",
    "\n",
    "\n",
    "\n",
    "\n",
    "# Now, drop the duplicate rows in the 'title' column.\n",
    "\n",
    "\n",
    "\n",
    "\n",
    "# Print out these statements with the correct values for the blanks.\n",
    "\n",
    "\n",
    "# _____ rows w. null values removed\n",
    "# _____ duplicate rows removed\n",
    "# _____ total rows removed"
   ]
  },
  {
   "cell_type": "markdown",
   "metadata": {},
   "source": [
    "\n",
    "\n",
    "### P2.PY\n",
    "\n",
    "\n"
   ]
  },
  {
   "cell_type": "code",
   "execution_count": null,
   "metadata": {},
   "outputs": [],
   "source": [
    "\"\"\"\n",
    "Data Cleaning II - Rename Columns\n",
    "\"\"\"\n",
    "\n",
    "import numpy as np\n",
    "import pandas as pd\n",
    "wine_reviews = pd.read_csv('../winemag-data-130k.csv')\n",
    "\n",
    "# Rename the 'designation' column to 'vineyard' and the 'points' column to 'rating'.\n"
   ]
  },
  {
   "cell_type": "markdown",
   "metadata": {},
   "source": [
    "\n",
    "\n",
    "### P3.PY\n",
    "\n",
    "\n"
   ]
  },
  {
   "cell_type": "code",
   "execution_count": null,
   "metadata": {},
   "outputs": [],
   "source": [
    "\"\"\"\n",
    "Data Cleaning III - Bulk Replace in a Series\n",
    "\"\"\"\n",
    "\n",
    "import numpy as np\n",
    "import pandas as pd\n",
    "wine_reviews = pd.read_csv('../winemag-data-130k.csv')\n",
    "\n",
    "# Using this Series, replace all instances of 'US' with 'DEMOCRATIC REPUBLIC OF CONGO'.\n",
    "\n",
    "countries = wine_reviews['country']\n",
    "\n",
    "\n",
    "\n",
    "# Again using the original Series, replace all instances of 'US' with 'FRENCH POLYNESIA' and all instances of 'Italy' with 'MADAGASCAR'."
   ]
  },
  {
   "cell_type": "markdown",
   "metadata": {},
   "source": [
    "\n",
    "\n",
    "### P4.PY\n",
    "\n",
    "\n"
   ]
  },
  {
   "cell_type": "code",
   "execution_count": null,
   "metadata": {},
   "outputs": [],
   "source": [
    "\"\"\"\n",
    "Data Cleaning IV - Bulk Replace in a Single DataFrame Column (Like a Series)\n",
    "\"\"\"\n",
    "\n",
    "import numpy as np\n",
    "import pandas as pd\n",
    "wine_reviews = pd.read_csv('../winemag-data-130k.csv')\n",
    "\n",
    "# (Obviously, these changes are geographically incorrect and just for the sake of example.)\n",
    "\n",
    "# Using this DataFrame, replace all instances of 'US' in the 'country' column with 'UNITED ARAB EMIRATES'.\n",
    "\n",
    "wine_geography = wine_reviews.copy()[['variety', 'country', 'province']]\n",
    "\n",
    "\n",
    "\n",
    "# Again using the original DataFrame, replace all instances of 'US' in the 'country' column with 'COSTA RICA' and all instances of 'Italy' in the 'country' column with 'UNITED ARAB EMIRATES'.\n",
    "\n",
    "\n",
    "\n"
   ]
  },
  {
   "cell_type": "markdown",
   "metadata": {},
   "source": [
    "\n",
    "\n",
    "### P5.PY\n",
    "\n",
    "\n"
   ]
  },
  {
   "cell_type": "code",
   "execution_count": null,
   "metadata": {},
   "outputs": [],
   "source": [
    "\"\"\"\n",
    "Data Cleaning V - Bulk Replace in a Single DataFrame Column (Like a Dict)\n",
    "\"\"\"\n",
    "\n",
    "import numpy as np\n",
    "import pandas as pd\n",
    "wine_reviews = pd.read_csv('../winemag-data-130k.csv')\n",
    "\n",
    "# (Obviously, these changes are geographically incorrect and just for the sake of example.)\n",
    "\n",
    "# Using this DataFrame, replace all instances of 'US' in the 'country' column with 'CZECH REPUBLIC'.\n",
    "\n",
    "wine_geography = wine_reviews.copy()[['variety', 'country', 'province']]\n",
    "\n",
    "\n",
    "\n",
    "# Again using the original DataFrame, replace all instances of 'US' in the 'country' column with 'COSTA RICA' and all instances of 'Italy' with 'CZECH REPUBLIC'."
   ]
  },
  {
   "cell_type": "markdown",
   "metadata": {},
   "source": [
    "\n",
    "\n",
    "### P6.PY\n",
    "\n",
    "\n"
   ]
  },
  {
   "cell_type": "code",
   "execution_count": null,
   "metadata": {},
   "outputs": [],
   "source": [
    "\"\"\"\n",
    "Data Cleaning VI - Bulk Replace Across Multiple DataFrame Columns\n",
    "\"\"\"\n",
    "\n",
    "import numpy as np\n",
    "import pandas as pd\n",
    "wine_reviews = pd.read_csv('../winemag-data-130k.csv')\n",
    "\n",
    "# (Obviously, these changes are geographically incorrect and just for the sake of example.)\n",
    "\n",
    "# Using this DataFrame, replace all instances in the following columns according to the directions below. HINT: You should be able to do this in one function call!\n",
    "## 'country' column\n",
    "#### 'US' should become 'Morocco'\n",
    "#### 'France' should become 'Mexico'\n",
    "## 'province' column\n",
    "#### 'Oregon' should become 'Ouezzane'\n",
    "#### 'Michigan' should become 'Fahs-Anjra'\n",
    "#### 'Sicily & Sardinia' should become 'Tuscany'\n",
    "\n",
    "wine_geography = wine_reviews.copy()[['variety', 'country', 'province']]\n",
    "\n"
   ]
  },
  {
   "cell_type": "markdown",
   "metadata": {},
   "source": [
    "\n",
    "\n",
    "### P7.PY\n",
    "\n",
    "\n"
   ]
  },
  {
   "cell_type": "code",
   "execution_count": null,
   "metadata": {},
   "outputs": [],
   "source": [
    "\"\"\"\n",
    "Cleaning Data VII - View Null Values\n",
    "\"\"\"\n",
    "\n",
    "import numpy as np\n",
    "import pandas as pd\n",
    "wine_reviews = pd.read_csv('../winemag-data-130k.csv')\n",
    "wine_reviews.rename(columns={'points': 'rating'}, inplace=True)\n",
    "\n",
    "# Use the below df for these problems:\n",
    "\n",
    "wine_ratings = wine_reviews[['title', 'country', 'rating', 'price']]\n",
    "\n",
    "\n",
    "\n",
    "# Return a dataframe of booleans that show True for null values.\n",
    "\n",
    "\n",
    "\n",
    "# Return a dataframe of booleans that show True for values that exist.\n"
   ]
  },
  {
   "cell_type": "markdown",
   "metadata": {},
   "source": [
    "\n",
    "\n",
    "### P8.PY\n",
    "\n",
    "\n"
   ]
  },
  {
   "cell_type": "code",
   "execution_count": null,
   "metadata": {},
   "outputs": [],
   "source": [
    "\"\"\"\n",
    "Cleaning Data VIII - Find Null Values\n",
    "\"\"\"\n",
    "\n",
    "import numpy as np\n",
    "import pandas as pd\n",
    "wine_reviews = pd.read_csv('../winemag-data-130k.csv')\n",
    "wine_reviews.rename(columns={'points': 'rating'}, inplace=True)\n",
    "\n",
    "# Use the below df for these problems:\n",
    "\n",
    "wine_ratings = wine_reviews[['title', 'country', 'rating', 'price']]\n",
    "\n",
    "\n",
    "# Return a count of the null values in wine_ratings.\n",
    "\n",
    "\n",
    "# Print out the number of rows in wine_ratings.\n",
    "\n"
   ]
  },
  {
   "cell_type": "markdown",
   "metadata": {},
   "source": [
    "\n",
    "\n",
    "### P9.PY\n",
    "\n",
    "\n"
   ]
  },
  {
   "cell_type": "code",
   "execution_count": null,
   "metadata": {},
   "outputs": [],
   "source": [
    "\"\"\"\n",
    "Cleaning Data IX - Drop Null Values\n",
    "\"\"\"\n",
    "\n",
    "import numpy as np\n",
    "import pandas as pd\n",
    "wine_reviews = pd.read_csv('../winemag-data-130k.csv')\n",
    "wine_reviews.rename(columns={'points': 'rating'}, inplace=True)\n",
    "\n",
    "# Use the below df for these problems:\n",
    "\n",
    "wine_ratings = wine_reviews[['title', 'country', 'rating', 'price']]\n",
    "\n",
    "\n",
    "# Drop the rows containing null values in any column.\n",
    "\n",
    "\n",
    "\n",
    "# Return a count of the null values in wine_ratings.\n",
    "\n",
    "\n",
    "\n",
    "# Print out the number of rows in wine_ratings.\n",
    "\n",
    "\n"
   ]
  },
  {
   "cell_type": "markdown",
   "metadata": {},
   "source": [
    "\n"
   ]
  }
 ],
 "metadata": {},
 "nbformat": 4,
 "nbformat_minor": 2
}
