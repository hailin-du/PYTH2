{
 "cells": [
  {
   "cell_type": "markdown",
   "metadata": {},
   "source": [
    "<a href=\"https://colab.research.google.com/github/mottaquikarim/PYTH2/blob/master/src/PSETS/nb/dict_psets.ipynb\" target=\"_parent\"><img src=\"https://colab.research.google.com/assets/colab-badge.svg\" alt=\"Open In Colab\"/></a>"
   ]
  },
  {
   "cell_type": "markdown",
   "metadata": {},
   "source": [
    "#  DICTS\n",
    "\n",
    "## DICT_BASICS\n",
    "\n",
    "### P1.PY\n",
    "\n",
    "\n"
   ]
  },
  {
   "cell_type": "code",
   "execution_count": null,
   "metadata": {},
   "outputs": [],
   "source": [
    "\"\"\"\n",
    "Intro to Dict Concepts\n",
    "\"\"\"\n",
    "\n",
    "# A) Declare an empty dict as d1.\n",
    "\n",
    "\n",
    "\n",
    "# B) Create a dict called d2 containing the first and last names below:\n",
    "# Anthony Paollelo, Ping Qiao, Enrique Alvarez, Arjun Dhir \n",
    "\n",
    "\n",
    "\n",
    "\n",
    "# C) Add Allison Zhang person to d2.\n",
    "\n",
    "\n",
    "\n",
    "# D) How many people are now in d2? Print out all their *first* names in the vars below.\n",
    "\n",
    "### num_people = \n",
    "\n",
    "### first_names = \n",
    "\n",
    "\n",
    "# E) Delete a random person from d2 and print his/her name in the var below.\n",
    "\n",
    "### x = \n",
    "\n",
    "\n",
    "# F) Re-add the name you deleted to the end of d2.\n",
    "\n",
    "\n",
    "\n",
    "\n"
   ]
  },
  {
   "cell_type": "markdown",
   "metadata": {},
   "source": [
    "\n",
    "\n",
    "### P2.PY\n",
    "\n",
    "\n"
   ]
  },
  {
   "cell_type": "code",
   "execution_count": null,
   "metadata": {},
   "outputs": [],
   "source": [
    "\"\"\"\n",
    "Predators & Prey\n",
    "\"\"\"\n",
    "\n",
    "# A) Create a dict called \"pred_prey\", containing:\n",
    "### 3 carnivorous marine animals\n",
    "### For each carnivore, 3 examples of its prey\n",
    "\n",
    "pred_prey = None\n",
    "\n",
    "\n",
    "\n",
    "# B) Print out the 2nd predator and its prey in this format:\n",
    "#### predator2: prey1, prey2, & prey3\n",
    "\n",
    "\n",
    "\n",
    "\n",
    "# C) Print a unique collection of all the prey in a variable called \"prey\".\n",
    "\n",
    "prey = None"
   ]
  },
  {
   "cell_type": "markdown",
   "metadata": {},
   "source": [
    "\n",
    "\n",
    "### P3.PY\n",
    "\n",
    "\n"
   ]
  },
  {
   "cell_type": "code",
   "execution_count": null,
   "metadata": {},
   "outputs": [],
   "source": [
    "\"\"\"\n",
    "Merging Dicts\n",
    "\"\"\"\n",
    "\n",
    "# Merge these two dicts without creating a new one.\n",
    "\n",
    "d1 = {'a': 100, 'b': 200}\n",
    "d2 = {'c': 300, 'd': 400, 'e': 500}\n",
    "\n"
   ]
  },
  {
   "cell_type": "markdown",
   "metadata": {},
   "source": [
    "\n",
    "\n",
    "### P4.PY\n",
    "\n",
    "\n"
   ]
  },
  {
   "cell_type": "code",
   "execution_count": null,
   "metadata": {},
   "outputs": [],
   "source": [
    "\"\"\"\n",
    "Lists to Dicts\n",
    "\"\"\"\n",
    "\n",
    "# Turn these two lists into a dict called grades.\n",
    "\n",
    "names = ['Taq', 'Zola', 'Valerie', 'Valerie']\n",
    "scores = [[98, 89, 92, 94], [86, 45, 98, 100], [100, 100, 100, 100], [76, 79, 80, 82]]\n",
    "\n",
    "### grades = "
   ]
  },
  {
   "cell_type": "markdown",
   "metadata": {},
   "source": [
    "\n",
    "\n",
    "## DICT_MANIP_OPS\n",
    "\n",
    "### P1.PY\n",
    "\n",
    "\n"
   ]
  },
  {
   "cell_type": "code",
   "execution_count": null,
   "metadata": {},
   "outputs": [],
   "source": [
    "\"\"\"\n",
    "Basic Login\n",
    "\"\"\"\n",
    "\n",
    "# Imagine you work for a movie streaming service. You're in charge of safeguarding user privacy by ensuring the login feature remains secure. For the sake of example only, below is the dict of user login info. Normally, you wouldn't have access to see this unencrypted of course!\n",
    "\n",
    "users = {\n",
    "\t'person@email.com': 'PassWord',\n",
    "\t'someone@email.com': 'hiitsme',\n",
    "\t'me@email.com': 'myPassword',\n",
    "\t'anyone@email.com': 'IMawesome',\n",
    "\t'guy@email.com': 'pa$$wordz'\n",
    "\t# etc\n",
    "}\n",
    "\n",
    "\n",
    "# A user enters the below login info (email and password) for your app. Search your database of user logins to see if this account exists and if the password matches what you have on file. If the login credentials are correct, print \"Successful login!\". Otherwise, print \"The login info you entered does not match any of our records.\"\n",
    "\n",
    "current_user = { 'me@email.com': 'myPassword' }"
   ]
  },
  {
   "cell_type": "markdown",
   "metadata": {},
   "source": [
    "\n",
    "\n",
    "### P3.PY\n",
    "\n",
    "\n"
   ]
  },
  {
   "cell_type": "code",
   "execution_count": null,
   "metadata": {},
   "outputs": [],
   "source": [
    "\"\"\"\n",
    "Math with Girl Scout Cookies\n",
    "\"\"\"\n",
    "\n",
    "# Print out the number of boxes of girl scout cookies that each girl in the troop sold in the below format:\n",
    "\t# Wendy: _____\n",
    "\t# Connie: _____\n",
    "\t# Francesca: _____\n",
    "\n",
    "Wendy = {'tagalongs': 5, 'thin mints': 12, 'samoas': 8}\n",
    "Connie = {'tagalongs': 10, 'thin mints': 4, 'samoas': 12}\n",
    "Francesca = {'tagalongs': 18, 'thin mints': 14, 'samoas': 10}\n",
    "\n",
    "### salesW = \n",
    "### salesC = \n",
    "### salesF = \n",
    "\n",
    "\n",
    "# For each type of girl scout cookie, print out the total number of boxes sold in the below format:\n",
    "\t# tagalongs: _____\n",
    "\t# thin mints: _____\n",
    "\t# samoas: _____\n",
    "\n",
    "### total_tagalongs = \n",
    "### total_thinmints = \n",
    "### total_samoas = \n",
    "\n",
    "\n",
    "# For each type of girl scout cookie, print out the average number of boxes sold in the below format:\n",
    "\t# tagalongs: _____\n",
    "\t# thin mints: _____\n",
    "\t# samoas: _____\n",
    "\n",
    "### avg_tagalongs = \n",
    "### avg_thinmints = \n",
    "### avg_samoas = \n",
    "\n",
    "# Print out total the number of boxes of cookies the girls sold collectively as follows:\n",
    "\t# \"This year we sold ______ boxes!\"\n",
    "\n",
    "### boxes_sold = "
   ]
  },
  {
   "cell_type": "markdown",
   "metadata": {},
   "source": [
    "\n",
    "\n",
    "### P4.PY\n",
    "\n",
    "\n"
   ]
  },
  {
   "cell_type": "code",
   "execution_count": null,
   "metadata": {},
   "outputs": [],
   "source": [
    "\"\"\"\n",
    "Inverting Keys & Values\n",
    "\"\"\"\n",
    "\n",
    "# Invert dict1 - make the current keys into values and the current values into keys.\n",
    "\n",
    "\n",
    "dict1 = { \"k1\" : \"v1\", \"k2\" : \"v2\", \"k3\" : \"v1\" }\n",
    "\n"
   ]
  },
  {
   "cell_type": "markdown",
   "metadata": {},
   "source": [
    "\n",
    "\n",
    "## COUNTERS_CHALLENGE\n",
    "\n",
    "### P1.PY\n",
    "\n",
    "\n"
   ]
  },
  {
   "cell_type": "code",
   "execution_count": null,
   "metadata": {},
   "outputs": [],
   "source": [
    "\"\"\"\n",
    "Word Frequency\n",
    "\"\"\"\n",
    "\n",
    "# Print out the number of words in this movie quote. Find and print out the most common word in the quote and how many times it was used.\n",
    "### Hint: You do not need a loop for this. Look up the Counter docs in python3.\n",
    "\n",
    "from collections import Counter\n",
    "\n",
    "princess_bride = [\n",
    "'Hello', 'my', 'name', 'is', 'Inigo', 'Montoya',\n",
    "'You', 'killed', 'my', 'father',\n",
    "'Prepare', 'to', 'die'\n",
    "]\n",
    "\n",
    "### fave_word = \n",
    "\n",
    "# p.s. You might use this to help analyze the most common topic in comments or reviews from your users to help understand the best places to improve you product."
   ]
  },
  {
   "cell_type": "markdown",
   "metadata": {},
   "source": [
    "\n",
    "\n",
    "### P2.PY\n",
    "\n",
    "\n"
   ]
  },
  {
   "cell_type": "code",
   "execution_count": null,
   "metadata": {},
   "outputs": [],
   "source": [
    "\"\"\"\n",
    "Summing Dict Values\n",
    "\"\"\"\n",
    "\n",
    "# Two Kindergarten teachers poll their classes for what fruit they want to eat for snacktime tomorrow. Only one of them is going shopping, so she needs to know how many of each fruit she needs to buy in total. Tally these up and assign them to the \"shopping_list\" dict.\n",
    "\n",
    "poll1 = {'apples': 8, 'bananas': 12}\n",
    "poll2 = {'apples': 6, 'bananas': 6, 'clementines': 8}\n",
    "\n",
    "### shopping_list = \n",
    "\n"
   ]
  },
  {
   "cell_type": "markdown",
   "metadata": {},
   "source": [
    "\n"
   ]
  }
 ],
 "metadata": {},
 "nbformat": 4,
 "nbformat_minor": 2
}
