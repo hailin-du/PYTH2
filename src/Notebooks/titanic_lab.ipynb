{
  "nbformat": 4,
  "nbformat_minor": 0,
  "metadata": {
    "colab": {
      "name": "titanic-lab.ipynb",
      "provenance": [],
      "collapsed_sections": [
        "WPRu4UKMwzeT"
      ],
      "include_colab_link": true
    },
    "kernelspec": {
      "name": "python3",
      "display_name": "Python 3"
    }
  },
  "cells": [
    {
      "cell_type": "markdown",
      "metadata": {
        "id": "view-in-github",
        "colab_type": "text"
      },
      "source": [
        "<a href=\"https://colab.research.google.com/github/mottaquikarim/PYTH2/blob/master/src/Notebooks/titanic_lab.ipynb\" target=\"_parent\"><img src=\"https://colab.research.google.com/assets/colab-badge.svg\" alt=\"Open In Colab\"/></a>"
      ]
    },
    {
      "cell_type": "markdown",
      "metadata": {
        "id": "ZBWuoUxs_KtD",
        "colab_type": "text"
      },
      "source": [
        "# Titanic Pandas Lab\n",
        "\n",
        "**Data Dictionary**\n",
        "* Survived: Survived (True = 1 & False = 0)\n",
        "* Pclass: Passenger’s class (Upper = 1, Middle = 2, Lower = 3)\n",
        "* Name: Passenger’s name\n",
        "* Sex: Passenger’s sex\n",
        "* Age: Passenger’s age\n",
        "* Siblings/Spouses Aboard: Number of siblings/spouses aboard\n",
        "* Parents/Children Aboard: Number of parents/children aboard\n",
        "* Fare: Fare amount, using British pounds as the currency\n",
        "\n"
      ]
    },
    {
      "cell_type": "code",
      "metadata": {
        "id": "evZiFqA4azTs",
        "colab_type": "code",
        "colab": {}
      },
      "source": [
        "import pandas as pd\n",
        "import numpy as np\n",
        "import matplotlib.pyplot as plt\n",
        "import seaborn as sns\n",
        "%matplotlib inline\n",
        "\n",
        "titanic = pd.read_csv(\"titanic.csv\")"
      ],
      "execution_count": 0,
      "outputs": []
    },
    {
      "cell_type": "markdown",
      "metadata": {
        "colab_type": "text",
        "id": "WPRu4UKMwzeT"
      },
      "source": [
        "## Preprocessing"
      ]
    },
    {
      "cell_type": "markdown",
      "metadata": {
        "id": "kaFfcCfIlNHg",
        "colab_type": "text"
      },
      "source": [
        "**1. Access a summary of the core metadata of the DataFrame (i.e. the number and name of columns, the rows, etc.)**"
      ]
    },
    {
      "cell_type": "code",
      "metadata": {
        "id": "GhzyFevfw55m",
        "colab_type": "code",
        "colab": {}
      },
      "source": [
        ""
      ],
      "execution_count": 0,
      "outputs": []
    },
    {
      "cell_type": "markdown",
      "metadata": {
        "id": "SkHGrpCYyrYF",
        "colab_type": "text"
      },
      "source": [
        "**2. Take a look at the first and last 3 rows of data.**"
      ]
    },
    {
      "cell_type": "code",
      "metadata": {
        "id": "pMDeSTh0yw7M",
        "colab_type": "code",
        "colab": {}
      },
      "source": [
        ""
      ],
      "execution_count": 0,
      "outputs": []
    },
    {
      "cell_type": "markdown",
      "metadata": {
        "id": "-xn0KDw6w6GF",
        "colab_type": "text"
      },
      "source": [
        "**3. Rename the \"Pclass\" column to \"Class\" and the \"Sex\" column to \"Gender\".**"
      ]
    },
    {
      "cell_type": "code",
      "metadata": {
        "id": "aPr-q3LHw6Ub",
        "colab_type": "code",
        "colab": {}
      },
      "source": [
        ""
      ],
      "execution_count": 0,
      "outputs": []
    },
    {
      "cell_type": "markdown",
      "metadata": {
        "id": "lGDsCA8QzAtt",
        "colab_type": "text"
      },
      "source": [
        "**4. Drop the 'Siblings/Spouses Aboard' and the 'Parents/Children Aboard' columns.**"
      ]
    },
    {
      "cell_type": "code",
      "metadata": {
        "id": "5ef6KiyxzH9u",
        "colab_type": "code",
        "colab": {}
      },
      "source": [
        ""
      ],
      "execution_count": 0,
      "outputs": []
    },
    {
      "cell_type": "markdown",
      "metadata": {
        "id": "-sw5iigw8Fjq",
        "colab_type": "text"
      },
      "source": [
        "**5. Check for duplicate passenger records. Remove the duplicates if any.**"
      ]
    },
    {
      "cell_type": "code",
      "metadata": {
        "id": "JZL8lTAq8Mj_",
        "colab_type": "code",
        "colab": {}
      },
      "source": [
        ""
      ],
      "execution_count": 0,
      "outputs": []
    },
    {
      "cell_type": "markdown",
      "metadata": {
        "id": "fLq_d6v4I0a-",
        "colab_type": "text"
      },
      "source": [
        "**6. Sort the passenger records by class, then gender, then age.**"
      ]
    },
    {
      "cell_type": "code",
      "metadata": {
        "id": "K0Zf22KvIbOz",
        "colab_type": "code",
        "colab": {}
      },
      "source": [
        ""
      ],
      "execution_count": 0,
      "outputs": []
    },
    {
      "cell_type": "markdown",
      "metadata": {
        "id": "DNmYyadOlCei",
        "colab_type": "text"
      },
      "source": [
        "## Basic Insights\n"
      ]
    },
    {
      "cell_type": "markdown",
      "metadata": {
        "id": "frd7Jt3ZlzCr",
        "colab_type": "text"
      },
      "source": [
        "**1. How many passengers were on the Titanic?**"
      ]
    },
    {
      "cell_type": "code",
      "metadata": {
        "id": "o7r8G2Bhl9zm",
        "colab_type": "code",
        "colab": {}
      },
      "source": [
        ""
      ],
      "execution_count": 0,
      "outputs": []
    },
    {
      "cell_type": "markdown",
      "metadata": {
        "id": "JJM8PpQVl9Qw",
        "colab_type": "text"
      },
      "source": [
        "**2. What was the average age of the passengers?**"
      ]
    },
    {
      "cell_type": "code",
      "metadata": {
        "id": "H1aGkXNBl_BZ",
        "colab_type": "code",
        "colab": {}
      },
      "source": [
        ""
      ],
      "execution_count": 0,
      "outputs": []
    },
    {
      "cell_type": "markdown",
      "metadata": {
        "id": "aLfWCqtZ30wL",
        "colab_type": "text"
      },
      "source": [
        "**3. How many passengers were minors (i.e. 0 < Age < 18)?**"
      ]
    },
    {
      "cell_type": "code",
      "metadata": {
        "id": "jnawfHTL4kO1",
        "colab_type": "code",
        "colab": {}
      },
      "source": [
        ""
      ],
      "execution_count": 0,
      "outputs": []
    },
    {
      "cell_type": "markdown",
      "metadata": {
        "id": "DTPsXAZPBtxG",
        "colab_type": "text"
      },
      "source": [
        "**4. Draw a histogram showing the distribution of passenger age with 25 bins.**"
      ]
    },
    {
      "cell_type": "code",
      "metadata": {
        "id": "iePLdrHLEBX1",
        "colab_type": "code",
        "colab": {}
      },
      "source": [
        ""
      ],
      "execution_count": 0,
      "outputs": []
    },
    {
      "cell_type": "markdown",
      "metadata": {
        "id": "qV9VSAxXmScg",
        "colab_type": "text"
      },
      "source": [
        "**5. How many people survived?**"
      ]
    },
    {
      "cell_type": "code",
      "metadata": {
        "id": "js4WmxcK2fbb",
        "colab_type": "code",
        "colab": {}
      },
      "source": [
        ""
      ],
      "execution_count": 0,
      "outputs": []
    },
    {
      "cell_type": "markdown",
      "metadata": {
        "id": "RFX1A05d3t8O",
        "colab_type": "text"
      },
      "source": [
        "**6. What was the overall mortality rate?**"
      ]
    },
    {
      "cell_type": "code",
      "metadata": {
        "id": "Q3goRud138Uf",
        "colab_type": "code",
        "colab": {}
      },
      "source": [
        ""
      ],
      "execution_count": 0,
      "outputs": []
    },
    {
      "cell_type": "markdown",
      "metadata": {
        "id": "7pbrhBeLNraa",
        "colab_type": "text"
      },
      "source": [
        "**7. What was the average fare paid by passengers in each class?**"
      ]
    },
    {
      "cell_type": "code",
      "metadata": {
        "id": "gaZexOqPl_eM",
        "colab_type": "code",
        "colab": {}
      },
      "source": [
        ""
      ],
      "execution_count": 0,
      "outputs": []
    },
    {
      "cell_type": "markdown",
      "metadata": {
        "id": "nBlhcqwB_588",
        "colab_type": "text"
      },
      "source": [
        "**8. Create a bar chart showing the number of people in each class. Use the labels \"Upper\", \"Middle\", and \"Lower\".**"
      ]
    },
    {
      "cell_type": "code",
      "metadata": {
        "id": "s7CtyvfhQ_bh",
        "colab_type": "code",
        "colab": {}
      },
      "source": [
        ""
      ],
      "execution_count": 0,
      "outputs": []
    },
    {
      "cell_type": "markdown",
      "metadata": {
        "id": "GB5Kz6vrNwcp",
        "colab_type": "text"
      },
      "source": [
        "**9. **"
      ]
    },
    {
      "cell_type": "code",
      "metadata": {
        "id": "jOU6lf34Nvw-",
        "colab_type": "code",
        "colab": {}
      },
      "source": [
        ""
      ],
      "execution_count": 0,
      "outputs": []
    },
    {
      "cell_type": "markdown",
      "metadata": {
        "id": "WFqH2Eh8eOB6",
        "colab_type": "text"
      },
      "source": [
        "## CHALLENGES"
      ]
    },
    {
      "cell_type": "markdown",
      "metadata": {
        "id": "ptuLhDpodP5l",
        "colab_type": "text"
      },
      "source": [
        "**1. Create a stacked bar chart showing the class makeup of the \"survivor\" group and the \"casualty\" group.**"
      ]
    },
    {
      "cell_type": "code",
      "metadata": {
        "id": "x6EkWbzhlCOE",
        "colab_type": "code",
        "colab": {}
      },
      "source": [
        ""
      ],
      "execution_count": 0,
      "outputs": []
    }
  ]
}