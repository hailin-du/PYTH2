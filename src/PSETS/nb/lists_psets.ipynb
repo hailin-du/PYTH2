{
 "cells": [
  {
   "cell_type": "markdown",
   "metadata": {},
   "source": [
    "<a href=\"https://colab.research.google.com/github/mottaquikarim/PYTH2/blob/master/src/PSETS/nb/lists_psets.ipynb\" target=\"_parent\"><img src=\"https://colab.research.google.com/assets/colab-badge.svg\" alt=\"Open In Colab\"/></a>"
   ]
  },
  {
   "cell_type": "markdown",
   "metadata": {},
   "source": [
    "#  LISTS\n",
    "\n",
    "## LIST_OPS\n",
    "\n",
    "### P1.PY\n"
   ]
  },
  {
   "cell_type": "code",
   "execution_count": null,
   "metadata": {},
   "outputs": [],
   "source": [
    "\"\"\"\n",
    "Basic List Operations I\n",
    "\"\"\"\n",
    "\n",
    "# Create a list including these five animals - elephant, tiger, otter, orangutan, and penguin.\n",
    "\n",
    "\n",
    "# Print the 4th animal on the list.\n",
    "\n",
    "\n",
    "# Add 'tortoise' to the beginning of the list.\n",
    "\n",
    "\n",
    "# Print the length of the list.\n",
    "\n",
    "\n",
    "# Remove 'orangutan' from the list.\n",
    "\n",
    "\n",
    "# Sort the list alphabetically and print it out.\n"
   ]
  },
  {
   "cell_type": "markdown",
   "metadata": {},
   "source": [
    "\n",
    "\n",
    "### P2.PY\n",
    "\n",
    "\n"
   ]
  },
  {
   "cell_type": "code",
   "execution_count": null,
   "metadata": {},
   "outputs": [],
   "source": [
    "\"\"\"\n",
    "Basic List Operations II\n",
    "\"\"\"\n",
    "\n",
    "# Declare a list with 5 names, and print out the length of that list.\n",
    "names = None\n",
    "\n",
    "# Print the 3rd name on the list\n",
    "\n",
    "\n",
    "\n",
    "# Delete the first name on the list\n",
    "\n",
    "\n",
    "\n",
    "# Re-add the name you deleted to the end of the list\n",
    "\n",
    "\n",
    "\n",
    "# Replace the 2nd name on the list with a new name.\n",
    "\n",
    "\n",
    "\n",
    "# Add 3 new names to the end of the list.\n",
    "\n",
    "\n"
   ]
  },
  {
   "cell_type": "markdown",
   "metadata": {},
   "source": [
    "\n",
    "\n",
    "### P3.PY\n",
    "\n",
    "\n"
   ]
  },
  {
   "cell_type": "code",
   "execution_count": null,
   "metadata": {},
   "outputs": [],
   "source": [
    "\"\"\"\n",
    "Math Operations\n",
    "\"\"\"\n",
    "\n",
    "# Save a list with the numbers `2`, `4`, `6`, and `8` into a variable called `numbers`. Use this variable for all the problems in this PSET.\n",
    "\n",
    "numbers = None\n",
    "\n",
    "# Print the max of `numbers`.\n",
    "\n",
    "\n",
    "# Pop the last element in `numbers` off; re-insert it at index `2` and print the resultant list.\n",
    "\n",
    "\n",
    "\n",
    "# Pop the second number in `numbers` off.\n",
    "\n",
    "\n",
    "\n",
    "# Append `3` to `numbers`.\n",
    "\n",
    "\n",
    "\n",
    "# Print out the average number.\n",
    "\n",
    "\n"
   ]
  },
  {
   "cell_type": "markdown",
   "metadata": {},
   "source": [
    "\n",
    "\n",
    "## SORTING\n",
    "\n",
    "### P1.PY\n",
    "\n",
    "\n"
   ]
  },
  {
   "cell_type": "code",
   "execution_count": null,
   "metadata": {},
   "outputs": [],
   "source": [
    "\"\"\"\n",
    "Spotify Playlists - Sorting\n",
    "\"\"\"\n",
    "\n",
    "# You work for Spotify and are creating a feature for users to alphabetize their playlists by song title. Below is a list of titles from a sample playlist.\n",
    "\n",
    "playlist_titles = ['Tiny Dancer', 'At Last', 'Fortunate Son', \n",
    "'Hey Jude', 'Isn\\'t She Lovely', 'Just the Way You Are', 'I\\'m Yours',\n",
    "'Vienna', 'Roxanne', 'Dancing in the Moonlight']\n",
    "\n",
    "# Alphabetize these songs and print the result.\n",
    "\n",
    "\n",
    "\n",
    "# Now do the reverse.\n",
    "\n"
   ]
  },
  {
   "cell_type": "markdown",
   "metadata": {},
   "source": [
    "\n",
    "\n",
    "### P2.PY\n",
    "\n",
    "\n"
   ]
  },
  {
   "cell_type": "code",
   "execution_count": null,
   "metadata": {},
   "outputs": [],
   "source": [
    "\"\"\"\n",
    "Ordering Random Numbers\n",
    "\"\"\"\n",
    "\n",
    "# Create a list of 6 randomly generated numbers called numbers and sort it in descending order.\n",
    "\n"
   ]
  },
  {
   "cell_type": "markdown",
   "metadata": {},
   "source": [
    "\n",
    "\n",
    "## LIST_MANIPULATION\n",
    "\n",
    "### P1.PY\n",
    "\n",
    "\n"
   ]
  },
  {
   "cell_type": "code",
   "execution_count": null,
   "metadata": {},
   "outputs": [],
   "source": [
    "\"\"\"\n",
    "Phone Numbers\n",
    "\"\"\"\n",
    "\n",
    "# Parse this phone number so that a computer can process\n",
    "# it. (Hint: It can't include any non-numeric\n",
    "# characters.)\n",
    "\n",
    "cell = '1.192.168.0143'"
   ]
  },
  {
   "cell_type": "markdown",
   "metadata": {},
   "source": [
    "\n",
    "\n",
    "### P2.PY\n",
    "\n",
    "\n"
   ]
  },
  {
   "cell_type": "code",
   "execution_count": null,
   "metadata": {},
   "outputs": [],
   "source": [
    "\"\"\"\n",
    "Basic Math Ops\n",
    "\"\"\"\n",
    "\n",
    "# Given the list below, assign the correct values to the variables below.\n",
    "\t# my_sum = \n",
    "\t# my_min = \n",
    "\t# my_max = \n",
    "\t# my_range = \n",
    "\t# my_mean =\n",
    "\n",
    "nums = [2, 19, 20, 12, 6, 24, 8, 30, 28, 25]\n",
    "\n",
    "\n",
    "# Once you finish, print out each value **on its own line** in this format: \"my_median = \" etc.\n",
    "\n"
   ]
  },
  {
   "cell_type": "markdown",
   "metadata": {},
   "source": [
    "\n",
    "\n",
    "### P3.PY\n",
    "\n",
    "\n"
   ]
  },
  {
   "cell_type": "code",
   "execution_count": null,
   "metadata": {},
   "outputs": [],
   "source": [
    "\"\"\"\n",
    "Merge Lists with Duplicates\n",
    "\"\"\"\n",
    "\n",
    "# Use the two lists below to solve this problem. Print out the result from each section as you go along.\n",
    "\n",
    "list1, list2 = [2, 8, 6], [10, 4, 12]\n",
    "\n",
    "\n",
    "# A) Add another instance of each item in list1 to list1 again and assign the results to list3.\n",
    "list3 = None\n",
    "\n",
    "\n",
    "# B) Combine the two given lists and assign them to list4.\n",
    "list4 = None\n",
    "\n",
    "\n",
    "# C) Replace the first 3 items in list 3 with the numbers 13, 16, 9.\n",
    "list3[:2] = None\n",
    "\n",
    "# D) Merge list3 and list4 to create a list containing no duplicates and store this in list5.\n",
    "list5 = None\n",
    "\n",
    "\n",
    "# Take a look at your printed statements to see the evolution of your lists with each step of this problem.\n"
   ]
  },
  {
   "cell_type": "markdown",
   "metadata": {},
   "source": [
    "\n",
    "\n",
    "### P4.PY\n",
    "\n",
    "\n"
   ]
  },
  {
   "cell_type": "code",
   "execution_count": null,
   "metadata": {},
   "outputs": [],
   "source": [
    "\"\"\"\n",
    "Cool Runnings!\n",
    "\"\"\"\n",
    "\n",
    "# Here's a quote from the movie 'Cool Runnings'. :)\n",
    "\n",
    "# Replace the word bobsled with \"YOLO\" and print the resultant list as 4 sentences (i.e. NOT a list), each on a new line.\n",
    "\n",
    "cool_runnings = [\n",
    "\t'Feel', 'the', 'rhythm.',\n",
    "\t'Feel', 'the', 'rhyme.',\n",
    "\t'Get', 'on', 'up.',\n",
    "\t'It\\'s', 'bobsled', 'time!'\n",
    "]\n",
    "\n"
   ]
  },
  {
   "cell_type": "markdown",
   "metadata": {},
   "source": [
    "\n",
    "\n",
    "## LIST_CHALLENGES\n",
    "\n",
    "### P1.PY\n",
    "\n",
    "\n"
   ]
  },
  {
   "cell_type": "code",
   "execution_count": null,
   "metadata": {},
   "outputs": [],
   "source": [
    "\"\"\"\n",
    "CHALLENGE - Extensions\n",
    "\"\"\"\n",
    "\n",
    "# ** Challenge** Add each element of the tuple1 to list1 *individually* and print the result.\n",
    "\n",
    "list1 = [6, 12, 9, 4, 10, 1]\n",
    "tuple1 = [(15,3), (6,2), (1, 8)]\n"
   ]
  },
  {
   "cell_type": "markdown",
   "metadata": {},
   "source": [
    "\n",
    "\n",
    "### P2.PY\n",
    "\n",
    "\n"
   ]
  },
  {
   "cell_type": "code",
   "execution_count": null,
   "metadata": {},
   "outputs": [],
   "source": [
    "\"\"\"\n",
    "CHALLENGE - Core Statistics Calculations\n",
    "\"\"\"\n",
    "\n",
    "# Given the sample below, find the mean, median, mode, variance, and standard deviation of this sample. Print them out separately, but in the same format as before.\n",
    "\t# my_median = \n",
    "\t# my_mode = \n",
    "\t# my_variance = \n",
    "\t# my_sd = \n",
    "\n",
    "sample = [6, 19, 20, 12, 6, 24, 8, 30, 28, 25]\n",
    "\n",
    "\n",
    "# Once you finish, print out each value **on its own line** in this format: \"median = \" etc.\n"
   ]
  },
  {
   "cell_type": "markdown",
   "metadata": {},
   "source": [
    "\n"
   ]
  }
 ],
 "metadata": {},
 "nbformat": 4,
 "nbformat_minor": 2
}
